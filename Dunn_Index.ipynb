{
 "cells": [
  {
   "cell_type": "code",
   "execution_count": 1,
   "metadata": {
    "collapsed": true
   },
   "outputs": [],
   "source": [
    "import pandas as pd\n",
    "import numpy as np\n",
    "import matplotlib.pyplot as plt\n",
    "import seaborn as sns\n",
    "import math\n",
    "\n",
    "%matplotlib inline"
   ]
  },
  {
   "cell_type": "code",
   "execution_count": 2,
   "metadata": {
    "collapsed": true
   },
   "outputs": [],
   "source": [
    "from scipy.spatial.distance import euclidean"
   ]
  },
  {
   "cell_type": "code",
   "execution_count": 3,
   "metadata": {
    "collapsed": true
   },
   "outputs": [],
   "source": [
    "from sklearn.metrics.pairwise import euclidean_distances"
   ]
  },
  {
   "cell_type": "code",
   "execution_count": 112,
   "metadata": {},
   "outputs": [
    {
     "data": {
      "image/png": "[encoded data removed]",
      "text/plain": [
       "<matplotlib.figure.Figure at 0x22025c97ef0>"
      ]
     },
     "metadata": {},
     "output_type": "display_data"
    }
   ],
   "source": [
    "#generating data\n",
    "from sklearn.datasets import make_blobs\n",
    "\n",
    "data = make_blobs(n_samples=1000, n_features=2, \n",
    "                           centers=3, cluster_std=1.2,random_state=101)\n",
    "plt.scatter(data[0][:,0],data[0][:,1],c=data[1],cmap='rainbow')\n",
    "\n",
    "plt.show()"
   ]
  },
  {
   "cell_type": "code",
   "execution_count": 139,
   "metadata": {
    "collapsed": true,
    "scrolled": true
   },
   "outputs": [],
   "source": [
    "x = pd.DataFrame(data[0])\n",
    "x['labels'] = data[1]\n",
    "x.fillna(0, inplace=True)"
   ]
  },
  {
   "cell_type": "code",
   "execution_count": 131,
   "metadata": {},
   "outputs": [
    {
     "data": {
      "text/plain": [
       "1.516508080523446"
      ]
     },
     "execution_count": 131,
     "metadata": {},
     "output_type": "execute_result"
    }
   ],
   "source": [
    "dunn(data[1], euclidean_distances(x.drop('labels', axis=1)))"
   ]
  },
  {
   "cell_type": "markdown",
   "metadata": {},
   "source": [
    "## Calculate the diameters of all clusters"
   ]
  },
  {
   "cell_type": "code",
   "execution_count": 7,
   "metadata": {
    "collapsed": true
   },
   "outputs": [],
   "source": [
    "def diameters(df, number_of_clusters): #testada\n",
    "    n_clusters = np.arange(0, number_of_clusters)\n",
    "    diameters = []\n",
    "    #for each cluster\n",
    "    for c in n_clusters:\n",
    "        distances = []\n",
    "        cluster = df.loc[df['labels'] == c]\n",
    "        cluster.drop('labels', axis=1, inplace=True)\n",
    "        #calculates distance between all points in  the cluster\n",
    "        for i in range(len(cluster)):\n",
    "            for j in range(i+1, len(cluster)):\n",
    "                distances.append(euclidean(cluster.iloc[i,:], cluster.iloc[j,:]))\n",
    "        #appends the maximum distance between two points in the cluster,\n",
    "        #i.e., its diameter, to the list of diameters of all clusters\n",
    "        diameters.append(max(distances))\n",
    "    \n",
    "    return diameters"
   ]
  },
  {
   "cell_type": "code",
   "execution_count": 45,
   "metadata": {
    "collapsed": true
   },
   "outputs": [],
   "source": [
    "def cluster_midpoints(df, number_of_clusters):\n",
    "    #n_clusters = np.arange(0, number_of_clusters)\n",
    "    midpoints = []\n",
    "    \n",
    "    for c in range(number_of_clusters):\n",
    "        cluster = df.loc[df['labels'] == c]\n",
    "        cluster.drop('labels', axis=1, inplace=True)\n",
    "        midpoint = []\n",
    "        for i in range(len(cluster.columns)):\n",
    "            midpoint.append(np.mean(cluster.iloc[:,i]))\n",
    "        midpoints.append(midpoint)\n",
    "    \n",
    "    return midpoints"
   ]
  },
  {
   "cell_type": "code",
   "execution_count": null,
   "metadata": {
    "collapsed": true
   },
   "outputs": [],
   "source": []
  },
  {
   "cell_type": "code",
   "execution_count": 46,
   "metadata": {
    "collapsed": true
   },
   "outputs": [],
   "source": [
    "def midpoints_dist(df, number_of_clusters, minDist): #erro aqui!\n",
    "    midpoints = cluster_midpoints(df, number_of_clusters)\n",
    "    dist_midpoints = []\n",
    "    \n",
    "    for i in range(len(midpoints)):\n",
    "        for j in range(i+1, len(midpoints)):\n",
    "            dist_midpoints.append(euclidean(midpoints[i], midpoints[j]))\n",
    "    \n",
    "    if minDist == True:\n",
    "        return min(dist_midpoints)\n",
    "    else:\n",
    "        return dist_midpoints"
   ]
  },
  {
   "cell_type": "code",
   "execution_count": 10,
   "metadata": {},
   "outputs": [
    {
     "name": "stderr",
     "output_type": "stream",
     "text": [
      "C:\\Users\\Luan Brasil\\Anaconda3\\lib\\site-packages\\ipykernel_launcher.py:7: SettingWithCopyWarning: \n",
      "A value is trying to be set on a copy of a slice from a DataFrame\n",
      "\n",
      "See the caveats in the documentation: http://pandas.pydata.org/pandas-docs/stable/indexing.html#indexing-view-versus-copy\n",
      "  import sys\n"
     ]
    },
    {
     "data": {
      "text/plain": [
       "6.1376403921211"
      ]
     },
     "execution_count": 10,
     "metadata": {},
     "output_type": "execute_result"
    }
   ],
   "source": [
    "midpoints_dist(df, 4, minDist=True)"
   ]
  },
  {
   "cell_type": "markdown",
   "metadata": {},
   "source": [
    "### Calculate general Dunn index"
   ]
  },
  {
   "cell_type": "code",
   "execution_count": 48,
   "metadata": {
    "collapsed": true
   },
   "outputs": [],
   "source": [
    "def dunn_index(data, number_of_clusters):\n",
    "    dunn_index = midpoints_dist(df, 4, minDist=True)/max(diameters(df, number_of_clusters))\n",
    "    return dunn_index"
   ]
  },
  {
   "cell_type": "code",
   "execution_count": 14,
   "metadata": {},
   "outputs": [
    {
     "name": "stderr",
     "output_type": "stream",
     "text": [
      "C:\\Users\\Luan Brasil\\Anaconda3\\lib\\site-packages\\ipykernel_launcher.py:7: SettingWithCopyWarning: \n",
      "A value is trying to be set on a copy of a slice from a DataFrame\n",
      "\n",
      "See the caveats in the documentation: http://pandas.pydata.org/pandas-docs/stable/indexing.html#indexing-view-versus-copy\n",
      "  import sys\n",
      "C:\\Users\\Luan Brasil\\Anaconda3\\lib\\site-packages\\ipykernel_launcher.py:8: SettingWithCopyWarning: \n",
      "A value is trying to be set on a copy of a slice from a DataFrame\n",
      "\n",
      "See the caveats in the documentation: http://pandas.pydata.org/pandas-docs/stable/indexing.html#indexing-view-versus-copy\n",
      "  \n"
     ]
    },
    {
     "data": {
      "text/plain": [
       "0.8433"
      ]
     },
     "execution_count": 14,
     "metadata": {},
     "output_type": "execute_result"
    }
   ],
   "source": [
    "round(dunn_index(df, 4), 4)"
   ]
  },
  {
   "cell_type": "markdown",
   "metadata": {},
   "source": [
    "### A partir daqui: código da internet"
   ]
  },
  {
   "cell_type": "code",
   "execution_count": 17,
   "metadata": {
    "collapsed": true
   },
   "outputs": [],
   "source": [
    "import numpy as np\n",
    "\n",
    "\n",
    "def normalize_to_smallest_integers(labels):\n",
    "    \"\"\"Normalizes a list of integers so that each number is reduced to the minimum possible integer, maintaining the order of elements.\n",
    "\n",
    "    :param labels: the list to be normalized\n",
    "    :returns: a numpy.array with the values normalized as the minimum integers between 0 and the maximum possible value.\n",
    "    \"\"\"\n",
    "\n",
    "    max_v = len(set(labels)) if -1 not in labels else len(set(labels)) - 1\n",
    "    sorted_labels = np.sort(np.unique(labels))\n",
    "    unique_labels = range(max_v)\n",
    "    new_c = np.zeros(len(labels), dtype=np.int32)\n",
    "\n",
    "    for i, clust in enumerate(sorted_labels):\n",
    "        new_c[labels == clust] = unique_labels[i]\n",
    "\n",
    "    return new_c\n",
    "\n",
    "\n",
    "def dunn(labels, distances):\n",
    "    \"\"\"\n",
    "    Dunn index for cluster validation (the bigger, the better)\n",
    "    \n",
    "    .. math:: D = \\\\min_{i = 1 \\\\ldots n_c; j = i + 1\\ldots n_c} \\\\left\\\\lbrace \\\\frac{d \\\\left( c_i,c_j \\\\right)}{\\\\max_{k = 1 \\\\ldots n_c} \\\\left(diam \\\\left(c_k \\\\right) \\\\right)} \\\\right\\\\rbrace\n",
    "    \n",
    "    where :math:`d(c_i,c_j)` represents the distance between\n",
    "    clusters :math:`c_i` and :math:`c_j`, given by the distances between its\n",
    "    two closest data points, and :math:`diam(c_k)` is the diameter of cluster\n",
    "    :math:`c_k`, given by the distance between its two farthest data points.\n",
    "    \n",
    "    The bigger the value of the resulting Dunn index, the better the clustering\n",
    "    result is considered, since higher values indicate that clusters are\n",
    "    compact (small :math:`diam(c_k)`) and far apart.\n",
    "\n",
    "    :param labels: a list containing cluster labels for each of the n elements\n",
    "    :param distances: an n x n numpy.array containing the pairwise distances between elements\n",
    "    \n",
    "    .. [Kovacs2005] Kovács, F., Legány, C., & Babos, A. (2005). Cluster validity measurement techniques. 6th International Symposium of Hungarian Researchers on Computational Intelligence.\n",
    "    \"\"\"\n",
    "\n",
    "    labels = normalize_to_smallest_integers(labels)\n",
    "\n",
    "    unique_cluster_distances = np.unique(min_cluster_distances(labels, distances))\n",
    "    max_diameter = max(diameter(labels, distances))\n",
    "\n",
    "    if np.size(unique_cluster_distances) > 1:\n",
    "        return unique_cluster_distances[1] / max_diameter\n",
    "    else:\n",
    "        return unique_cluster_distances[0] / max_diameter\n",
    "\n",
    "\n",
    "def min_cluster_distances(labels, distances):\n",
    "    \"\"\"Calculates the distances between the two nearest points of each cluster.\n",
    "\n",
    "    :param labels: a list containing cluster labels for each of the n elements\n",
    "    :param distances: an n x n numpy.array containing the pairwise distances between elements\n",
    "    \"\"\"\n",
    "    labels = normalize_to_smallest_integers(labels)\n",
    "    n_unique_labels = len(np.unique(labels))\n",
    "\n",
    "    min_distances = np.zeros((n_unique_labels, n_unique_labels))\n",
    "    for i in np.arange(0, len(labels) - 1):\n",
    "        for ii in np.arange(i + 1, len(labels)):\n",
    "            if labels[i] != labels[ii] and distances[i, ii] > min_distances[labels[i], labels[ii]]:\n",
    "                min_distances[labels[i], labels[ii]] = min_distances[labels[ii], labels[i]] = distances[i, ii]\n",
    "    return min_distances\n",
    "\n",
    "    \n",
    "def diameter(labels, distances):\n",
    "    \"\"\"Calculates cluster diameters (the distance between the two farthest data points in a cluster)\n",
    "\n",
    "    :param labels: a list containing cluster labels for each of the n elements\n",
    "    :param distances: an n x n numpy.array containing the pairwise distances between elements\n",
    "    :returns:\n",
    "    \"\"\"\n",
    "    labels = normalize_to_smallest_integers(labels)\n",
    "    n_clusters = len(np.unique(labels))\n",
    "    diameters = np.zeros(n_clusters)\n",
    "\n",
    "    for i in np.arange(0, len(labels) - 1):\n",
    "        for ii in np.arange(i + 1, len(labels)):\n",
    "            if labels[i] == labels[ii] and distances[i, ii] > diameters[labels[i]]:\n",
    "                diameters[labels[i]] = distances[i, ii]\n",
    "    return diameters"
   ]
  },
  {
   "cell_type": "code",
   "execution_count": 18,
   "metadata": {},
   "outputs": [
    {
     "data": {
      "text/plain": [
       "1.6596790503508918"
      ]
     },
     "execution_count": 18,
     "metadata": {},
     "output_type": "execute_result"
    }
   ],
   "source": [
    "dunn(df['labels'], euclidean_distances(df))"
   ]
  },
  {
   "cell_type": "code",
   "execution_count": 73,
   "metadata": {},
   "outputs": [
    {
     "data": {
      "text/plain": [
       "\"from sklearn.datasets import load_iris\\nfrom sklearn.cluster import KMeans\\n\\nl = load_iris()\\nlabels = l['target']\\ndata = l['data']\\nk = KMeans(n_clusters=3).fit_predict(data)\\ndund = dunn(labels, euclidean_distances(data))\\ndunk = dunn(k, euclidean_distances(data))\\n\\n#print(x, c, dund, dunk)\""
      ]
     },
     "execution_count": 73,
     "metadata": {},
     "output_type": "execute_result"
    }
   ],
   "source": [
    "\"\"\"from sklearn.datasets import load_iris\n",
    "from sklearn.cluster import KMeans\n",
    "\n",
    "l = load_iris()\n",
    "labels = l['target']\n",
    "data = l['data']\n",
    "k = KMeans(n_clusters=3).fit_predict(data)\n",
    "dund = dunn(labels, euclidean_distances(data))\n",
    "dunk = dunn(k, euclidean_distances(data))\n",
    "\n",
    "#print(x, c, dund, dunk)\"\"\""
   ]
  },
  {
   "cell_type": "code",
   "execution_count": 74,
   "metadata": {
    "collapsed": true,
    "scrolled": true
   },
   "outputs": [],
   "source": [
    "#iris = pd.DataFrame(l['data'])\n",
    "#iris['labels'] = l['target']\n",
    "\n",
    "#iris"
   ]
  },
  {
   "cell_type": "code",
   "execution_count": 49,
   "metadata": {},
   "outputs": [
    {
     "name": "stderr",
     "output_type": "stream",
     "text": [
      "C:\\Users\\Luan Brasil\\Anaconda3\\lib\\site-packages\\ipykernel_launcher.py:7: SettingWithCopyWarning: \n",
      "A value is trying to be set on a copy of a slice from a DataFrame\n",
      "\n",
      "See the caveats in the documentation: http://pandas.pydata.org/pandas-docs/stable/indexing.html#indexing-view-versus-copy\n",
      "  import sys\n",
      "C:\\Users\\Luan Brasil\\Anaconda3\\lib\\site-packages\\ipykernel_launcher.py:8: SettingWithCopyWarning: \n",
      "A value is trying to be set on a copy of a slice from a DataFrame\n",
      "\n",
      "See the caveats in the documentation: http://pandas.pydata.org/pandas-docs/stable/indexing.html#indexing-view-versus-copy\n",
      "  \n"
     ]
    },
    {
     "data": {
      "text/plain": [
       "0.8433480009754464"
      ]
     },
     "execution_count": 49,
     "metadata": {},
     "output_type": "execute_result"
    }
   ],
   "source": [
    "dunn_index(data, 3)"
   ]
  },
  {
   "cell_type": "code",
   "execution_count": null,
   "metadata": {
    "collapsed": true
   },
   "outputs": [],
   "source": []
  }
 ],
 "metadata": {
  "kernelspec": {
   "display_name": "Python 3",
   "language": "python",
   "name": "python3"
  },
  "language_info": {
   "codemirror_mode": {
    "name": "ipython",
    "version": 3
   },
   "file_extension": ".py",
   "mimetype": "text/x-python",
   "name": "python",
   "nbconvert_exporter": "python",
   "pygments_lexer": "ipython3",
   "version": "3.6.3"
  }
 },
 "nbformat": 4,
 "nbformat_minor": 2
}
