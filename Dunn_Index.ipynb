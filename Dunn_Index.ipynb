{
 "cells": [
  {
   "cell_type": "code",
   "execution_count": 1,
   "metadata": {
    "collapsed": true
   },
   "outputs": [],
   "source": [
    "import pandas as pd\n",
    "import numpy as np\n",
    "import matplotlib.pyplot as plt\n",
    "import seaborn as sns\n",
    "import math\n",
    "\n",
    "%matplotlib inline"
   ]
  },
  {
   "cell_type": "code",
   "execution_count": 2,
   "metadata": {
    "collapsed": true
   },
   "outputs": [],
   "source": [
    "from scipy.spatial.distance import euclidean"
   ]
  },
  {
   "cell_type": "markdown",
   "metadata": {},
   "source": [
    "## Calculate the diameters of all clusters"
   ]
  },
  {
   "cell_type": "code",
   "execution_count": 134,
   "metadata": {
    "collapsed": true
   },
   "outputs": [],
   "source": [
    "def diameters(df, number_of_clusters):\n",
    "    n_clusters = np.arange(0, number_of_clusters)\n",
    "    diameters = []\n",
    "    #for each cluster\n",
    "    for c in n_clusters:\n",
    "        distances = []\n",
    "        cluster = df.loc[df['labels'] == c]\n",
    "        cluster.drop('labels', axis=1, inplace=True)\n",
    "        #calculates distance between all points in  the cluster\n",
    "        for i in range(len(cluster)):\n",
    "            for j in range(i+1, len(cluster)):\n",
    "                distances.append(euclidean(cluster.iloc[i,:], cluster.iloc[j,:]))\n",
    "        #appends the maximum distance between two points in the cluster,\n",
    "        #i.e., its diameter, to the list of diameters of all clusters\n",
    "        diameters.append(max(distances))\n",
    "    \n",
    "    return diameters"
   ]
  },
  {
   "cell_type": "code",
   "execution_count": 157,
   "metadata": {
    "collapsed": true
   },
   "outputs": [],
   "source": [
    "def midpoints(df, number_of_clusters):\n",
    "    n_clusters = np.arange(0, number_of_clusters)\n",
    "    midpoints = []\n",
    "    \n",
    "    for c in n_clusters:\n",
    "        cluster = df.loc[df['labels'] == c]\n",
    "        cluster.drop('labels', axis=1, inplace=True)\n",
    "        midpoint = []\n",
    "        for i in range(len(cluster.columns)):\n",
    "            midpoint.append(np.mean(cluster.iloc[:,i]))\n",
    "        midpoints.append(midpoint)\n",
    "    \n",
    "    return midpoints"
   ]
  },
  {
   "cell_type": "code",
   "execution_count": 167,
   "metadata": {
    "scrolled": true
   },
   "outputs": [
    {
     "name": "stdout",
     "output_type": "stream",
     "text": [
      "cluster 0 com o Cluster 0\n",
      "0.0\n",
      " \n",
      "cluster 0 com o Cluster 1\n",
      "12.816925429487364\n",
      " \n",
      "cluster 0 com o Cluster 2\n",
      "6.080290019977491\n",
      " \n",
      "cluster 0 com o Cluster 3\n",
      "7.062221896449644\n",
      " \n",
      "cluster 1 com o Cluster 0\n",
      "12.816925429487364\n",
      " \n",
      "cluster 1 com o Cluster 1\n",
      "0.0\n",
      " \n",
      "cluster 1 com o Cluster 2\n",
      "18.79445805789005\n",
      " \n",
      "cluster 1 com o Cluster 3\n",
      "15.405046794116886\n",
      " \n",
      "cluster 2 com o Cluster 0\n",
      "6.080290019977491\n",
      " \n",
      "cluster 2 com o Cluster 1\n",
      "18.79445805789005\n",
      " \n",
      "cluster 2 com o Cluster 2\n",
      "0.0\n",
      " \n",
      "cluster 2 com o Cluster 3\n",
      "7.566888608341238\n",
      " \n",
      "cluster 3 com o Cluster 0\n",
      "7.062221896449644\n",
      " \n",
      "cluster 3 com o Cluster 1\n",
      "15.405046794116886\n",
      " \n",
      "cluster 3 com o Cluster 2\n",
      "7.566888608341238\n",
      " \n",
      "cluster 3 com o Cluster 3\n",
      "0.0\n",
      " \n"
     ]
    },
    {
     "name": "stderr",
     "output_type": "stream",
     "text": [
      "C:\\Users\\Luan Brasil\\Anaconda3\\lib\\site-packages\\ipykernel_launcher.py:7: SettingWithCopyWarning: \n",
      "A value is trying to be set on a copy of a slice from a DataFrame\n",
      "\n",
      "See the caveats in the documentation: http://pandas.pydata.org/pandas-docs/stable/indexing.html#indexing-view-versus-copy\n",
      "  import sys\n"
     ]
    }
   ],
   "source": [
    "centroids = midpoints(df, 4)\n",
    "for i in range(4):\n",
    "    for j in range(4):\n",
    "        print(\"cluster \" + str(i) +\" com o Cluster \" + str(j) )\n",
    "        print(euclidean(centroids[i], centroids[j]))\n",
    "        print( \" \")"
   ]
  },
  {
   "cell_type": "code",
   "execution_count": 168,
   "metadata": {},
   "outputs": [
    {
     "data": {
      "image/png": "[encoded data removed]",
      "text/plain": [
       "<matplotlib.figure.Figure at 0x249800a0c18>"
      ]
     },
     "metadata": {},
     "output_type": "display_data"
    }
   ],
   "source": [
    "plt.scatter(data[0][:,0],data[0][:,1],c=data[1],cmap='inferno')\n",
    "\n",
    "plt.show()"
   ]
  },
  {
   "cell_type": "code",
   "execution_count": 5,
   "metadata": {
    "collapsed": true
   },
   "outputs": [],
   "source": [
    "#calculate distances between cluster midpoints\n",
    "def min_dist_interpoints(points, n_points):\n",
    "    distances = list()\n",
    "    for i in range(n_points):\n",
    "        if i < n_points-1:\n",
    "            distances.append(euclidean(points[i], points[i+1]))\n",
    "        else:\n",
    "            distances.append(euclidean(points[0], points[i]))\n",
    "    return min(distances)"
   ]
  },
  {
   "cell_type": "code",
   "execution_count": 6,
   "metadata": {},
   "outputs": [
    {
     "data": {
      "text/plain": [
       "\"def min_intercluster_distance(data, n_clusters):\\n    midpoints = list()\\n    clusters = list(np.arange(1, n_clusters+1))\\n    for i in range(n_clusters):\\n        cluster = data.loc[data['labels'] == clusters[i]]\\n        for k in range(len(cluster)):\\n            cluster_features = list()\\n            cluster_features.append(cluster.drop('labels', axis=1).iloc[k,:])\\n        midpoint_features = list()\\n        for j in range(len(cluster.drop('labels', axis=1).columns)):\\n            midpoint_features.append(cluster.drop('labels', axis=1).iloc[:,j].mean())\\n        #midpoint_features = pd.Series(midpoint_features)\\n        midpoints.append(midpoint_features)\\n    return min_dist_interpoints(midpoints, n_clusters)\""
      ]
     },
     "execution_count": 6,
     "metadata": {},
     "output_type": "execute_result"
    }
   ],
   "source": [
    "#ideia: calcular os pontos médios de cada cluster e, então, a distância entre eles\n",
    "'''def min_intercluster_distance(data, n_clusters):\n",
    "    midpoints = list()\n",
    "    clusters = list(np.arange(1, n_clusters+1))\n",
    "    for i in range(n_clusters):\n",
    "        cluster = data.loc[data['labels'] == clusters[i]]\n",
    "        for k in range(len(cluster)):\n",
    "            cluster_features = list()\n",
    "            cluster_features.append(cluster.drop('labels', axis=1).iloc[k,:])\n",
    "        midpoint_features = list()\n",
    "        for j in range(len(cluster.drop('labels', axis=1).columns)):\n",
    "            midpoint_features.append(cluster.drop('labels', axis=1).iloc[:,j].mean())\n",
    "        #midpoint_features = pd.Series(midpoint_features)\n",
    "        midpoints.append(midpoint_features)\n",
    "    return min_dist_interpoints(midpoints, n_clusters)'''"
   ]
  },
  {
   "cell_type": "code",
   "execution_count": 7,
   "metadata": {
    "collapsed": true
   },
   "outputs": [],
   "source": [
    "def min_intercluster_distance(n_clusters, centers):\n",
    "    return min_dist_interpoints(centers, n_clusters)"
   ]
  },
  {
   "cell_type": "markdown",
   "metadata": {},
   "source": [
    "### Calculate general Dunn index"
   ]
  },
  {
   "cell_type": "code",
   "execution_count": 132,
   "metadata": {
    "collapsed": true
   },
   "outputs": [],
   "source": [
    "def dunn_index(data, number_of_clusters, centers):\n",
    "    dunn_index = min_intercluster_distance(n_clusters, centers)/max(diameters(df, number_of_clusters))\n",
    "    return dunn_index"
   ]
  },
  {
   "cell_type": "markdown",
   "metadata": {},
   "source": [
    "### A partir daqui: código da internet"
   ]
  },
  {
   "cell_type": "code",
   "execution_count": 10,
   "metadata": {
    "collapsed": true
   },
   "outputs": [],
   "source": [
    "from sklearn.datasets import make_blobs"
   ]
  },
  {
   "cell_type": "code",
   "execution_count": 11,
   "metadata": {
    "collapsed": true
   },
   "outputs": [],
   "source": [
    "data = make_blobs(n_samples=200, n_features=2, \n",
    "                           centers=4, cluster_std=1.8,random_state=101)"
   ]
  },
  {
   "cell_type": "code",
   "execution_count": 12,
   "metadata": {
    "collapsed": true
   },
   "outputs": [],
   "source": [
    "df = pd.DataFrame(data[0])"
   ]
  },
  {
   "cell_type": "code",
   "execution_count": 13,
   "metadata": {
    "collapsed": true
   },
   "outputs": [],
   "source": [
    "df['labels'] = data[1]"
   ]
  },
  {
   "cell_type": "code",
   "execution_count": 17,
   "metadata": {
    "collapsed": true
   },
   "outputs": [],
   "source": [
    "def normalize_to_smallest_integers(labels):\n",
    "    \"\"\"Normalizes a list of integers so that each number is reduced to the minimum possible integer, maintaining the order of elements.\n",
    "\n",
    "    :param labels: the list to be normalized\n",
    "    :returns: a numpy.array with the values normalized as the minimum integers between 0 and the maximum possible value.\n",
    "    \"\"\"\n",
    "\n",
    "    max_v = len(set(labels)) if -1 not in labels else len(set(labels)) - 1\n",
    "    sorted_labels = np.sort(np.unique(labels))\n",
    "    unique_labels = range(max_v)\n",
    "    new_c = np.zeros(len(labels), dtype=np.int32)\n",
    "\n",
    "    for i, clust in enumerate(sorted_labels):\n",
    "        new_c[labels == clust] = unique_labels[i]\n",
    "\n",
    "    return new_c"
   ]
  },
  {
   "cell_type": "code",
   "execution_count": 20,
   "metadata": {},
   "outputs": [
    {
     "data": {
      "image/png": "[encoded data removed]",
      "text/plain": [
       "<matplotlib.figure.Figure at 0x249fddf6630>"
      ]
     },
     "metadata": {},
     "output_type": "display_data"
    }
   ],
   "source": [
    "plt.scatter(data[0][:,0],data[0][:,1],c=data[1],cmap='inferno')\n",
    "\n",
    "plt.show()"
   ]
  },
  {
   "cell_type": "code",
   "execution_count": 22,
   "metadata": {
    "collapsed": true
   },
   "outputs": [],
   "source": [
    "def min_cluster_distances(labels, distances):\n",
    "    \"\"\"Calculates the distances between the two nearest points of each cluster.\n",
    "\n",
    "    :param labels: a list containing cluster labels for each of the n elements\n",
    "    :param distances: an n x n numpy.array containing the pairwise distances between elements\n",
    "    \"\"\"\n",
    "    labels = normalize_to_smallest_integers(labels)\n",
    "    n_unique_labels = len(np.unique(labels))\n",
    "\n",
    "    min_distances = np.zeros((n_unique_labels, n_unique_labels))\n",
    "    for i in np.arange(0, len(labels) - 1):\n",
    "        for ii in np.arange(i + 1, len(labels)):\n",
    "            if labels[i] != labels[ii] and distances[i, ii] > min_distances[labels[i], labels[ii]]:\n",
    "                min_distances[labels[i], labels[ii]] = min_distances[labels[ii], labels[i]] = distances[i, ii]\n",
    "    return min_distances\n"
   ]
  },
  {
   "cell_type": "code",
   "execution_count": 169,
   "metadata": {},
   "outputs": [
    {
     "data": {
      "text/plain": [
       "array([[ 0.        , 20.73531654, 15.30148564, 15.60449397],\n",
       "       [20.73531654,  0.        , 27.97016696, 23.0914074 ],\n",
       "       [15.30148564, 27.97016696,  0.        , 17.24893909],\n",
       "       [15.60449397, 23.0914074 , 17.24893909,  0.        ]])"
      ]
     },
     "execution_count": 169,
     "metadata": {},
     "output_type": "execute_result"
    }
   ],
   "source": [
    "min_cluster_distances(data[1],euclidean_distances(data[0]))"
   ]
  },
  {
   "cell_type": "code",
   "execution_count": null,
   "metadata": {
    "collapsed": true
   },
   "outputs": [],
   "source": []
  }
 ],
 "metadata": {
  "kernelspec": {
   "display_name": "Python 3",
   "language": "python",
   "name": "python3"
  },
  "language_info": {
   "codemirror_mode": {
    "name": "ipython",
    "version": 3
   },
   "file_extension": ".py",
   "mimetype": "text/x-python",
   "name": "python",
   "nbconvert_exporter": "python",
   "pygments_lexer": "ipython3",
   "version": "3.6.3"
  }
 },
 "nbformat": 4,
 "nbformat_minor": 2
}
